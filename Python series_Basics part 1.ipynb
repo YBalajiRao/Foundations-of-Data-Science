{
 "cells": [
  {
   "cell_type": "code",
   "execution_count": 3,
   "id": "735ccde2-4852-42c3-95bb-70bc4f3e5de4",
   "metadata": {},
   "outputs": [],
   "source": [
    "# 🌸 Story: Rama & Sita enter the forest (Vanavasam)\n",
    "# Once upon a time, Rama and Sita entered the forest for their 14-year Vanavasam.\n",
    "# As soon as they stepped into the forest, Rama wanted to talk to the trees, birds, animals — and introduce himself!\n",
    "\n",
    "# But how could he speak?\n",
    "\n",
    "# He needed a voice.\n",
    "\n",
    "# In Python, that voice is print()."
   ]
  },
  {
   "cell_type": "code",
   "execution_count": 19,
   "id": "1002be92-aa66-479a-b91a-12f5e0e5f303",
   "metadata": {},
   "outputs": [
    {
     "name": "stdout",
     "output_type": "stream",
     "text": [
      "Jai Sita Ram!\n"
     ]
    }
   ],
   "source": [
    "print(\"Jai Sita Ram!\")\n"
   ]
  },
  {
   "cell_type": "code",
   "execution_count": 21,
   "id": "0502a8c1-5d9c-4469-b8eb-1e70f011632c",
   "metadata": {},
   "outputs": [],
   "source": [
    "# Just like Rama speaks to the forest, you use print() to speak to the computer."
   ]
  },
  {
   "cell_type": "code",
   "execution_count": 25,
   "id": "88fa49db-cf37-42c2-a7f1-bac2127e3fae",
   "metadata": {},
   "outputs": [
    {
     "name": "stdout",
     "output_type": "stream",
     "text": [
      "Rama and seetha\n",
      "Vanavasam started in Chitrakoot\n",
      "Lakshmana is always protective\n"
     ]
    }
   ],
   "source": [
    "print(\"Rama and seetha\")\n",
    "print(\"Vanavasam started in Chitrakoot\")\n",
    "print(\"Lakshmana is always protective\")\n"
   ]
  },
  {
   "cell_type": "code",
   "execution_count": 27,
   "id": "5ca51916-66d8-48f7-af25-2e3b65f2cb0e",
   "metadata": {},
   "outputs": [
    {
     "name": "stdout",
     "output_type": "stream",
     "text": [
      "Sita Devi is the queen of Mithila\n",
      "Sri Rama is the king of Ayodhya\n"
     ]
    }
   ],
   "source": [
    "print(\"Sita Devi is the queen of Mithila\")\n",
    "print(\"Sri Rama is the king of Ayodhya\")"
   ]
  },
  {
   "cell_type": "code",
   "execution_count": null,
   "id": "bba8ee14-5dd0-474b-9b50-61d09bd737f2",
   "metadata": {},
   "outputs": [],
   "source": [
    "rama=\"seetha\"\n",
    "seetha="
   ]
  },
  {
   "cell_type": "code",
   "execution_count": 31,
   "id": "eff5d8a0-fd43-4cbe-b254-437f4dd1a4ef",
   "metadata": {},
   "outputs": [],
   "source": [
    " # Episode 2: “Sita’s Jewels & Rama’s Weapons”"
   ]
  },
  {
   "cell_type": "code",
   "execution_count": 33,
   "id": "e7a56b33-7747-4abe-ba74-d8bcb22b32b3",
   "metadata": {},
   "outputs": [],
   "source": [
    "# 👉 (Variables & Data Types)"
   ]
  },
  {
   "cell_type": "code",
   "execution_count": null,
   "id": "e13865b1-0033-457d-870b-cde63ddedd84",
   "metadata": {},
   "outputs": [],
   "source": [
    "# 🌸 Story Time:\n",
    "# During their Vanavasam, one day Rama, Sita, and Lakshmana were sitting under a banyan tree.\n",
    "\n",
    "# Sita opened a small jewel box and showed:\n",
    "\n",
    "# “Rama, these are the jewels I brought from Mithila — they’re all precious to me!”\n",
    "\n",
    "# Rama smiled and said:\n",
    "\n",
    "# “And I brought my bow, arrows, and sword. Each one has its own purpose, just like your jewels.”\n",
    "\n",
    "# 💡 Just like Sita’s jewels and Rama’s weapons, in Python, we store different types of values in different containers — called Variables."
   ]
  },
  {
   "cell_type": "code",
   "execution_count": null,
   "id": "a267215a-88b3-4390-ac1e-2b54a5206f5e",
   "metadata": {},
   "outputs": [],
   "source": [
    "# ✨ What is a Variable?\n",
    "# A variable is a name that stores data.\n",
    "# Like Rama's bow = Kodanda"
   ]
  },
  {
   "cell_type": "code",
   "execution_count": 37,
   "id": "583c7374-809c-4c64-b7af-057232e58942",
   "metadata": {},
   "outputs": [
    {
     "name": "stdout",
     "output_type": "stream",
     "text": [
      "Kodanda\n"
     ]
    }
   ],
   "source": [
    "bow = \"Kodanda\"\n",
    "print(bow)\n"
   ]
  },
  {
   "cell_type": "code",
   "execution_count": 45,
   "id": "c25c734d-c065-4762-85ed-05ac429106bc",
   "metadata": {},
   "outputs": [
    {
     "name": "stdout",
     "output_type": "stream",
     "text": [
      "<class 'str'>\n",
      "<class 'int'>\n",
      "<class 'float'>\n",
      "<class 'bool'>\n"
     ]
    }
   ],
   "source": [
    "name = \"Sita\"\n",
    "print(type(name))     # <class 'str'>\n",
    "\n",
    "years = 14\n",
    "print(type(years))    # <class 'int'>\n",
    "\n",
    "speed = 45.6\n",
    "print(type(speed))    # <class 'float'>\n",
    "\n",
    "is_happy = True\n",
    "print(type(is_happy)) # <class 'bool'>\n"
   ]
  },
  {
   "cell_type": "code",
   "execution_count": 47,
   "id": "cca9c0b8-ea42-4e29-b958-112461e5d396",
   "metadata": {},
   "outputs": [],
   "source": [
    "# 🧵 Episode 3: “Forest Decisions – Should Rama fight or forgive?”\n",
    "# 👉 (if–else Conditional Statements)"
   ]
  },
  {
   "cell_type": "code",
   "execution_count": null,
   "id": "330b539d-3f86-4a11-b625-45da7e997c4b",
   "metadata": {},
   "outputs": [],
   "source": [
    "# 🌸 Story Time:\n",
    "# One day in the forest, a wild Rakshasa (demon) tried to scare Sita Devi. 😡\n",
    "# Lakshmana got angry and said,\n",
    "\n",
    "# \"Anna! Attack cheddama?\"\n",
    "\n",
    "# But Rama, calm and composed, said:\n",
    "\n",
    "# “Let’s first check the situation. If he touches Sita, we attack. Else, let him go.\"\n",
    "\n",
    "# 🎯 That’s exactly what if-else means in Python:\n",
    "# Make a decision based on a condition."
   ]
  },
  {
   "cell_type": "code",
   "execution_count": 49,
   "id": "48fb2dbe-e873-4a51-8ace-a3239c81e413",
   "metadata": {},
   "outputs": [
    {
     "name": "stdout",
     "output_type": "stream",
     "text": [
      "Rama takes his bow! 🔥 Fight begins!\n"
     ]
    }
   ],
   "source": [
    "rakshasa_touched_sita = True\n",
    "\n",
    "if rakshasa_touched_sita:\n",
    "    print(\"Rama takes his bow! 🔥 Fight begins!\")\n",
    "else:\n",
    "    print(\"Rama forgives and walks away calmly 🌿\")\n"
   ]
  },
  {
   "cell_type": "code",
   "execution_count": 51,
   "id": "f069f2db-7a0a-4699-bd44-22bf855090dd",
   "metadata": {},
   "outputs": [
    {
     "name": "stdout",
     "output_type": "stream",
     "text": [
      "Rama smiles: 'Sita, your food is divine!' 🍲\n"
     ]
    }
   ],
   "source": [
    "food_ready = True\n",
    "\n",
    "if food_ready:\n",
    "    print(\"Rama smiles: 'Sita, your food is divine!' 🍲\")\n",
    "else:\n",
    "    print(\"Rama waits patiently near the river 🌊\")\n"
   ]
  },
  {
   "cell_type": "code",
   "execution_count": null,
   "id": "c7e1cef4-9dec-49a9-ad30-df1a0cff0cda",
   "metadata": {},
   "outputs": [],
   "source": [
    "# if = Rama checks the situation\n",
    "# elif = Another possible path (like asking Lakshmana’s opinion)\n",
    "# else = If nothing matches, Rama makes his final decision."
   ]
  },
  {
   "cell_type": "code",
   "execution_count": null,
   "id": "94c25f27-1288-43c1-84ae-c9d100f7712a",
   "metadata": {},
   "outputs": [],
   "source": [
    "# 🧵 Episode 4: “Forest Repetitions – Rama walks with Sita every day”\n",
    "# 👉 (for Loops in Python)"
   ]
  },
  {
   "cell_type": "code",
   "execution_count": null,
   "id": "05eed13d-a761-45d4-bf7f-cd76038f5aa3",
   "metadata": {},
   "outputs": [],
   "source": [
    "# 🌸 Story Time:\n",
    "# During their Vanavasam, every morning 🌄, Rama and Sita walked through the forest together —\n",
    "# Rama checking the trees 🌳, animals 🐘, and rivers 🌊 one by one.\n",
    "\n",
    "# Sita smiled and said,\n",
    "\n",
    "# “Rama! Every day you do the same thing again and again… forest lo ni motham observe chesthunnavu.”\n",
    "\n",
    "# Rama laughed and replied:\n",
    "\n",
    "# “That’s a for loop, Sita! One by one, I go through everything!”"
   ]
  },
  {
   "cell_type": "code",
   "execution_count": null,
   "id": "3dadf34f-ddcf-4114-9b42-ef25589945b7",
   "metadata": {},
   "outputs": [],
   "source": [
    "# 🧠 Python Concept: for Loop\n",
    "# Used to repeat an action for each item in a group (like list, string, etc.)\n"
   ]
  },
  {
   "cell_type": "code",
   "execution_count": null,
   "id": "bce2f51d-7dd2-402a-bdfa-3e2aa1597133",
   "metadata": {},
   "outputs": [],
   "source": [
    "# 🔍 Example 1: Rama visiting all trees"
   ]
  },
  {
   "cell_type": "code",
   "execution_count": 57,
   "id": "ce83820b-f73c-4bf1-9b78-b00e88d357e6",
   "metadata": {},
   "outputs": [
    {
     "name": "stdout",
     "output_type": "stream",
     "text": [
      "Rama visits the Peepal tree 🌳\n",
      "Rama visits the Banyan tree 🌳\n",
      "Rama visits the Neem tree 🌳\n",
      "Rama visits the Sandalwood tree 🌳\n"
     ]
    }
   ],
   "source": [
    "forest_trees = [\"Peepal\", \"Banyan\", \"Neem\", \"Sandalwood\"]\n",
    "for tree in forest_trees:\n",
    "    print(\"Rama visits the\", tree, \"tree 🌳\")"
   ]
  },
  {
   "cell_type": "code",
   "execution_count": 59,
   "id": "97236c2e-48e0-437e-8deb-43368c9a5fc2",
   "metadata": {},
   "outputs": [],
   "source": [
    "# 🔍 Example 2: Rama counting the Vanavasam years"
   ]
  },
  {
   "cell_type": "code",
   "execution_count": 61,
   "id": "2eab59f8-21a4-4f62-9fea-12ed97ef2238",
   "metadata": {},
   "outputs": [
    {
     "name": "stdout",
     "output_type": "stream",
     "text": [
      "Year 1 : Rama and Sita are still in forest...\n",
      "Year 2 : Rama and Sita are still in forest...\n",
      "Year 3 : Rama and Sita are still in forest...\n",
      "Year 4 : Rama and Sita are still in forest...\n",
      "Year 5 : Rama and Sita are still in forest...\n",
      "Year 6 : Rama and Sita are still in forest...\n",
      "Year 7 : Rama and Sita are still in forest...\n",
      "Year 8 : Rama and Sita are still in forest...\n",
      "Year 9 : Rama and Sita are still in forest...\n",
      "Year 10 : Rama and Sita are still in forest...\n",
      "Year 11 : Rama and Sita are still in forest...\n",
      "Year 12 : Rama and Sita are still in forest...\n",
      "Year 13 : Rama and Sita are still in forest...\n"
     ]
    }
   ],
   "source": [
    "for year in range(1,14):\n",
    "    print(\"Year\", year,\": Rama and Sita are still in forest...\")"
   ]
  },
  {
   "cell_type": "code",
   "execution_count": 65,
   "id": "203dc5af-290f-4999-962b-87a2ded2e13f",
   "metadata": {},
   "outputs": [],
   "source": [
    "# 🧪 Example 3: Loop through characters in Sita’s name"
   ]
  },
  {
   "cell_type": "code",
   "execution_count": 71,
   "id": "ccdb484c-5b26-4b45-a0f7-4fc0382a4340",
   "metadata": {},
   "outputs": [
    {
     "name": "stdout",
     "output_type": "stream",
     "text": [
      "Letter: s\n",
      "Letter: e\n",
      "Letter: e\n",
      "Letter: e\n",
      "Letter: t\n",
      "Letter: h\n",
      "Letter: a\n"
     ]
    }
   ],
   "source": [
    "for letter in \"seeetha\":\n",
    "    print(\"Letter:\", letter)"
   ]
  },
  {
   "cell_type": "code",
   "execution_count": null,
   "id": "a8f884e8-75b4-4400-98a6-817126410759",
   "metadata": {},
   "outputs": [],
   "source": [
    "# 🧵 Episode 5: \"Shabari’s Endless Wait – The while Loop\"\n",
    "# 👉 (Python while loop` explanation with story + examples)\n",
    "\n"
   ]
  },
  {
   "cell_type": "code",
   "execution_count": null,
   "id": "d61577f0-7724-4cc0-8f8a-e237eb9320a3",
   "metadata": {},
   "outputs": [],
   "source": [
    "# 🌸 Story Time:\n",
    "# In the deep forest, an old lady named Shabari waited every single day for Lord Rama’s arrival.\n",
    "# Years passed... yet she never gave up hope. She kept saying:\n",
    "\n",
    "# “While Rama hasn't come yet... I will wait. I will offer fruits. I will keep the path clean.” 🙏🍓\n",
    "\n",
    "# 💡 And that is exactly what a while loop is in Python:\n",
    "\n",
    "# Repeat something while a condition is true.\n",
    "\n"
   ]
  },
  {
   "cell_type": "code",
   "execution_count": 73,
   "id": "6fbdd5a2-a2e2-41c1-b367-aed6b60b0f46",
   "metadata": {},
   "outputs": [],
   "source": [
    "# 🧠 Python Concept: while Loop\n",
    "# 🔧 Syntax:\n",
    "\n",
    "# while condition:\n",
    "#     # Repeat this block\n"
   ]
  },
  {
   "cell_type": "code",
   "execution_count": 75,
   "id": "d0623305-efb6-45fc-a926-e575a2846c4b",
   "metadata": {},
   "outputs": [],
   "source": [
    "# It will keep running again and again until the condition becomes False.\n"
   ]
  },
  {
   "cell_type": "code",
   "execution_count": 77,
   "id": "daceec88-2a21-467c-a12a-ed2eeb085895",
   "metadata": {},
   "outputs": [],
   "source": [
    "# 🔍 Example 1: Counting with while"
   ]
  },
  {
   "cell_type": "code",
   "execution_count": 79,
   "id": "64910e1e-88bb-4ddd-bb23-ff85846966ad",
   "metadata": {},
   "outputs": [
    {
     "name": "stdout",
     "output_type": "stream",
     "text": [
      "count is:  1\n",
      "count is:  2\n",
      "count is:  3\n",
      "count is:  4\n",
      "count is:  5\n"
     ]
    }
   ],
   "source": [
    "count=1\n",
    "while count<=5:\n",
    "    print(\"count is: \", count)\n",
    "    count+=1"
   ]
  },
  {
   "cell_type": "code",
   "execution_count": 81,
   "id": "c364ced9-bf07-463d-8b77-d64296d0e2b1",
   "metadata": {},
   "outputs": [
    {
     "name": "stdout",
     "output_type": "stream",
     "text": [
      "Seetha: Ramaaaa...\n",
      "Seetha: Ramaaaa...\n",
      "Seetha: Ramaaaa...\n",
      "Rama: I am here, Sita!\n"
     ]
    }
   ],
   "source": [
    "seetha_calling = 0\n",
    "\n",
    "while seetha_calling < 3:\n",
    "    print(\"Seetha: Ramaaaa...\")\n",
    "    seetha_calling += 1\n",
    "\n",
    "print(\"Rama: I am here, Sita!\")\n"
   ]
  },
  {
   "cell_type": "code",
   "execution_count": null,
   "id": "2901bf2c-b38f-40e3-846f-832c3d90eae5",
   "metadata": {},
   "outputs": [],
   "source": [
    "# 🧵 Episode 6: “Hanuman’s Seva – Python functions()”\n",
    "# 👉 (Functions in Python)"
   ]
  },
  {
   "cell_type": "code",
   "execution_count": null,
   "id": "c82cb79b-ffac-4a06-8493-ed0b3db6d00a",
   "metadata": {},
   "outputs": [],
   "source": [
    "# 🌸 Story Time:\n",
    "# Hanuman was always ready to help Rama.\n",
    "# Every time Rama called, Hanuman would appear and do his service — whether it was crossing the ocean, finding Sita, or burning Lanka 🔥.\n",
    "\n",
    "# One day, Sita asked:\n",
    "\n",
    "# “Rama, how is Hanuman so quick and perfect every time?”\n",
    "\n",
    "# Rama replied:\n",
    "\n",
    "# “Because I trained him once, and now he performs the same seva again and again… just like a Python function!”"
   ]
  },
  {
   "cell_type": "code",
   "execution_count": null,
   "id": "67eab999-3f63-4543-bcfd-ae3ff78c68f9",
   "metadata": {},
   "outputs": [],
   "source": [
    "# 🧠 Python Concept: def → Define a function\n",
    "# A function is like a box of seva — you define it once, and call it whenever needed."
   ]
  },
  {
   "cell_type": "code",
   "execution_count": 88,
   "id": "a99e0684-5b97-4545-b6e6-8c83d2f90af4",
   "metadata": {},
   "outputs": [],
   "source": [
    "# #syntax\n",
    "# def function_name():\n",
    "#      Your code here\n"
   ]
  },
  {
   "cell_type": "code",
   "execution_count": null,
   "id": "29e58f3d-5fdd-47be-9c05-182a39ed0193",
   "metadata": {},
   "outputs": [],
   "source": [
    "# To use it, you call:\n",
    "\n",
    "# function_name()\n"
   ]
  },
  {
   "cell_type": "code",
   "execution_count": null,
   "id": "59d1c000-ccf6-499e-9df6-c5d315c064be",
   "metadata": {},
   "outputs": [],
   "source": [
    "# 🔍 Example 1: Hanuman greeting Rama"
   ]
  },
  {
   "cell_type": "code",
   "execution_count": 92,
   "id": "40fdf1f1-65af-4c33-af98-18f5ec63f959",
   "metadata": {},
   "outputs": [
    {
     "name": "stdout",
     "output_type": "stream",
     "text": [
      "Jai Shri Ram! 🙏\n",
      "Jai Shri Ram! 🙏\n"
     ]
    }
   ],
   "source": [
    "def hanuman_greet():\n",
    "    print(\"Jai Shri Ram! 🙏\")\n",
    "\n",
    "# Call the function\n",
    "hanuman_greet()\n",
    "hanuman_greet()\n"
   ]
  },
  {
   "cell_type": "code",
   "execution_count": null,
   "id": "b09ed2c6-0ba0-4c4a-8036-25f660e53685",
   "metadata": {},
   "outputs": [],
   "source": [
    "# 🔍 Example 2: Rama blessing his devotees (Function with name)"
   ]
  },
  {
   "cell_type": "code",
   "execution_count": 99,
   "id": "d10e21f0-9d36-46d5-adb7-80b1dd830767",
   "metadata": {},
   "outputs": [
    {
     "name": "stdout",
     "output_type": "stream",
     "text": [
      "Rama blesses Kannaya\n",
      "Rama blesses seethama\n"
     ]
    }
   ],
   "source": [
    "def bless(devotee_name):\n",
    "    print(\"Rama blesses\", devotee_name)\n",
    "\n",
    "bless(\"Kannaya\")\n",
    "bless(\"seethama\")\n"
   ]
  },
  {
   "cell_type": "code",
   "execution_count": null,
   "id": "640cabca-0f7e-4eb6-aeec-98ed414c429a",
   "metadata": {},
   "outputs": [],
   "source": [
    "# 🔍 Example 3: Add two numbers"
   ]
  },
  {
   "cell_type": "code",
   "execution_count": 105,
   "id": "069e7d73-99b7-477e-9f84-65e5a67e56e6",
   "metadata": {},
   "outputs": [
    {
     "name": "stdout",
     "output_type": "stream",
     "text": [
      "The sum is: 30\n"
     ]
    }
   ],
   "source": [
    "def add(a, b):\n",
    "    result = a + b\n",
    "    return result\n",
    "\n",
    "sum_value = add(10, 20)\n",
    "print(\"The sum is:\", sum_value)\n"
   ]
  },
  {
   "cell_type": "code",
   "execution_count": null,
   "id": "b9a01fca-c2e2-4cd6-8a1b-670ddbe2264d",
   "metadata": {},
   "outputs": [],
   "source": [
    "# 🧺 What is a List in Python?\n",
    "# Think of a list like a basket where you can keep multiple items — one after another — and access them easily."
   ]
  },
  {
   "cell_type": "code",
   "execution_count": 107,
   "id": "b04531d1-13e7-4c82-ac87-32f53c40d3e8",
   "metadata": {},
   "outputs": [],
   "source": [
    "# 🎬 Title: Python List – The Mass Entry\n",
    "# Scene 1: Entry of Hero - The List"
   ]
  },
  {
   "cell_type": "code",
   "execution_count": 109,
   "id": "c127a1fd-e958-4cc6-8540-2ee9980dc220",
   "metadata": {},
   "outputs": [
    {
     "name": "stdout",
     "output_type": "stream",
     "text": [
      "['Arjun', 'Vikram', 'Raghu', 'Suri']\n"
     ]
    }
   ],
   "source": [
    "gang = [\"Arjun\", \"Vikram\", \"Raghu\", \"Suri\"]\n",
    "print(gang)"
   ]
  },
  {
   "cell_type": "code",
   "execution_count": 111,
   "id": "f06b1133-ca6d-4617-a053-4d724b4f3c25",
   "metadata": {},
   "outputs": [
    {
     "name": "stdout",
     "output_type": "stream",
     "text": [
      "Arjun\n",
      "Vikram\n",
      "Raghu\n",
      "Suri\n"
     ]
    }
   ],
   "source": [
    "for i in gang:\n",
    "    print(i)"
   ]
  },
  {
   "cell_type": "code",
   "execution_count": null,
   "id": "fcef6afe-218b-4262-b2d0-cebb0bd826c9",
   "metadata": {},
   "outputs": [],
   "source": [
    "# 🎬 Scene 2: Hero showing power (Access, Change)\n",
    "# Villain: “Nuvvu first member evaru cheppaledu ra!”\n",
    "# Hero: print(gang[0]) → Arjun\n",
    "\n",
    "# Villager: “Orey change chesi chupinchuraa!”\n",
    "# Hero:"
   ]
  },
  {
   "cell_type": "code",
   "execution_count": 113,
   "id": "f0be0392-6fb9-4150-986c-69135d706162",
   "metadata": {},
   "outputs": [
    {
     "name": "stdout",
     "output_type": "stream",
     "text": [
      "Arjun\n"
     ]
    }
   ],
   "source": [
    "print(gang[0])"
   ]
  },
  {
   "cell_type": "code",
   "execution_count": 115,
   "id": "450759e7-4f12-47dc-adcb-58db3fc6dea3",
   "metadata": {},
   "outputs": [
    {
     "name": "stdout",
     "output_type": "stream",
     "text": [
      "['Balajirao', 'Vikram', 'Raghu', 'Suri']\n"
     ]
    }
   ],
   "source": [
    "gang[0]=\"Balajirao\"\n",
    "print(gang)"
   ]
  },
  {
   "cell_type": "code",
   "execution_count": 117,
   "id": "3306c0c5-8f3d-4826-a4ec-92ac457b5180",
   "metadata": {},
   "outputs": [
    {
     "name": "stdout",
     "output_type": "stream",
     "text": [
      "Balajirao\n",
      "Vikram\n",
      "Raghu\n",
      "Suri\n"
     ]
    }
   ],
   "source": [
    "for i in gang:\n",
    "    print(i)"
   ]
  },
  {
   "cell_type": "code",
   "execution_count": null,
   "id": "9447a702-738d-42e8-a10a-48f9e1be567a",
   "metadata": {},
   "outputs": [],
   "source": [
    "# 🎬 Scene 3: Flashback Fight – Adding Members\n",
    "# Appudu join aiyye friend"
   ]
  },
  {
   "cell_type": "code",
   "execution_count": 119,
   "id": "a9edb0f3-d1dc-4b87-a343-624e15ab405d",
   "metadata": {},
   "outputs": [],
   "source": [
    "gang.append(\"pavan kalyan\")"
   ]
  },
  {
   "cell_type": "raw",
   "id": "9c7ba643-5663-4ad9-af21-7165d3e6e6da",
   "metadata": {},
   "source": []
  },
  {
   "cell_type": "code",
   "execution_count": 121,
   "id": "758af4db-2bd4-4871-911a-9b0c2cd88b93",
   "metadata": {},
   "outputs": [
    {
     "name": "stdout",
     "output_type": "stream",
     "text": [
      "['Balajirao', 'Vikram', 'Raghu', 'Suri', 'pavan kalyan']\n"
     ]
    }
   ],
   "source": [
    "print(gang)"
   ]
  },
  {
   "cell_type": "code",
   "execution_count": 123,
   "id": "e9f1faea-1de1-4540-93fc-ba0534053cc8",
   "metadata": {},
   "outputs": [
    {
     "name": "stdout",
     "output_type": "stream",
     "text": [
      "['Balajirao', 'rahul', 'Vikram', 'Raghu', 'Suri', 'pavan kalyan']\n"
     ]
    }
   ],
   "source": [
    "gang.insert(1,\"rahul\")\n",
    "print(gang)"
   ]
  },
  {
   "cell_type": "code",
   "execution_count": 125,
   "id": "566a59e8-58f8-47e2-97d2-4fac965aaea5",
   "metadata": {},
   "outputs": [],
   "source": [
    "# 🎬 Scene 4: Villain Removal Scene\n",
    "# Traitor ni remove cheyyali:"
   ]
  },
  {
   "cell_type": "code",
   "execution_count": 127,
   "id": "305fc345-0bee-495d-ae86-f66c86c0bb23",
   "metadata": {},
   "outputs": [
    {
     "name": "stdout",
     "output_type": "stream",
     "text": [
      "['Balajirao', 'Vikram', 'Raghu', 'Suri', 'pavan kalyan']\n"
     ]
    }
   ],
   "source": [
    "gang.remove(\"rahul\")\n",
    "print(gang)"
   ]
  },
  {
   "cell_type": "code",
   "execution_count": 129,
   "id": "baf2701b-6d59-4331-9a0a-31381bc0bbb7",
   "metadata": {},
   "outputs": [
    {
     "data": {
      "text/plain": [
       "'pavan kalyan'"
      ]
     },
     "execution_count": 129,
     "metadata": {},
     "output_type": "execute_result"
    }
   ],
   "source": [
    "gang.pop()"
   ]
  },
  {
   "cell_type": "code",
   "execution_count": 131,
   "id": "d5b46901-e63d-4da0-887b-a77e0237779a",
   "metadata": {},
   "outputs": [
    {
     "name": "stdout",
     "output_type": "stream",
     "text": [
      "Gang member: Balajirao\n",
      "Gang member: Vikram\n",
      "Gang member: Raghu\n",
      "Gang member: Suri\n"
     ]
    }
   ],
   "source": [
    "for hero in gang:\n",
    "    print(\"Gang member:\", hero)"
   ]
  },
  {
   "cell_type": "code",
   "execution_count": 133,
   "id": "7d6c0bf6-ef3b-408a-bd11-5e59dd797b07",
   "metadata": {},
   "outputs": [
    {
     "name": "stdout",
     "output_type": "stream",
     "text": [
      "Total Heroes: 4\n"
     ]
    }
   ],
   "source": [
    "print(\"Total Heroes:\", len(gang))\n"
   ]
  },
  {
   "cell_type": "code",
   "execution_count": 135,
   "id": "7fcf67ea-480f-4a9c-a119-907af8ffd539",
   "metadata": {},
   "outputs": [],
   "source": [
    "# 🎬 Scene 6: Climax – Mass Transformation\n",
    "# Sorting (discipline lo pettadam):"
   ]
  },
  {
   "cell_type": "raw",
   "id": "3827ccd0-4ddb-4517-9843-d1768407fe33",
   "metadata": {},
   "source": []
  },
  {
   "cell_type": "code",
   "execution_count": 137,
   "id": "8eed9b38-3620-4b65-a6fb-3ba4d7951773",
   "metadata": {},
   "outputs": [
    {
     "name": "stdout",
     "output_type": "stream",
     "text": [
      "['Balajirao', 'Vikram', 'Raghu', 'Suri']\n"
     ]
    }
   ],
   "source": [
    "print(gang)"
   ]
  },
  {
   "cell_type": "code",
   "execution_count": 141,
   "id": "1ae4907a-e275-4999-85cb-1737336740a0",
   "metadata": {},
   "outputs": [],
   "source": []
  },
  {
   "cell_type": "raw",
   "id": "4b428fba-4ba4-456f-9a29-776e64d35456",
   "metadata": {},
   "source": []
  },
  {
   "cell_type": "code",
   "execution_count": 143,
   "id": "85c42f1d-3db5-4088-aa07-2e8ba4c77e86",
   "metadata": {},
   "outputs": [
    {
     "name": "stdout",
     "output_type": "stream",
     "text": [
      "['Balajirao', 'Raghu', 'Suri', 'Vikram']\n"
     ]
    }
   ],
   "source": [
    "gang.sort()\n",
    "print(gang)"
   ]
  },
  {
   "cell_type": "code",
   "execution_count": 145,
   "id": "e4b426d0-6c99-4952-a1b6-e5ed54a01637",
   "metadata": {},
   "outputs": [
    {
     "name": "stdout",
     "output_type": "stream",
     "text": [
      "['Vikram', 'Suri', 'Raghu', 'Balajirao']\n"
     ]
    }
   ],
   "source": [
    "gang.reverse()\n",
    "print(gang)"
   ]
  },
  {
   "cell_type": "code",
   "execution_count": 147,
   "id": "afaeee92-0399-4151-bc40-dbd3d0548d1a",
   "metadata": {},
   "outputs": [],
   "source": [
    "# | Action        | Python Code            |\n",
    "# | ------------- | ---------------------- |\n",
    "# | Create List   | `gang = [..]`          |\n",
    "# | Add Member    | `append()`, `insert()` |\n",
    "# | Remove Member | `remove()`, `pop()`    |\n",
    "# | Change Member | `gang[index] = \"name\"` |\n",
    "# | Count Members | `len(gang)`            |\n",
    "# | Loop Through  | `for x in gang:`       |\n",
    "# | Sort/Reverse  | `sort()`, `reverse()`  |\n"
   ]
  },
  {
   "cell_type": "code",
   "execution_count": null,
   "id": "174e199d-1ed6-4930-af32-5cb6078cb0dc",
   "metadata": {},
   "outputs": [],
   "source": [
    "# 🎯 What is a Tuple in Python?\n",
    "# Tuple = Like a list, but unchangeable (immutable).\n",
    "\n",
    "# Syntax: Use round brackets ()"
   ]
  },
  {
   "cell_type": "code",
   "execution_count": 151,
   "id": "6d5ace45-107a-40e1-a42e-43cf7da8435f",
   "metadata": {},
   "outputs": [],
   "source": [
    "my_tuple = (10, 20, 30)"
   ]
  },
  {
   "cell_type": "code",
   "execution_count": 153,
   "id": "957c4503-47f1-4a05-8b7e-bea3adb62881",
   "metadata": {},
   "outputs": [],
   "source": [
    "# ✅ Key Features of Tuple\n",
    "# Feature\tMeaning\n",
    "# Immutable\tYou can’t modify, add, or remove elements\n",
    "# Ordered\tIndexes work, like tuple[0], tuple[1]\n",
    "# Duplicates OK\tTuple can contain repeated values\n",
    "# Faster than List\tSince it doesn’t change, it works faster"
   ]
  },
  {
   "cell_type": "code",
   "execution_count": 155,
   "id": "9176e7d4-9e49-47ae-9118-6e7b178eed9b",
   "metadata": {},
   "outputs": [
    {
     "name": "stdout",
     "output_type": "stream",
     "text": [
      "banana\n"
     ]
    }
   ],
   "source": [
    "fruits = (\"apple\", \"banana\", \"cherry\")\n",
    "print(fruits[1])   # Output: banana"
   ]
  },
  {
   "cell_type": "code",
   "execution_count": 163,
   "id": "240f3625-036c-4fb2-b822-05541e4680ad",
   "metadata": {},
   "outputs": [
    {
     "name": "stdout",
     "output_type": "stream",
     "text": [
      "banana\n"
     ]
    }
   ],
   "source": [
    "# # ❌ What You Can’t Do with Tuples:\n",
    "fruits = (\"apple\", \"banana\", \"cherry\")\n",
    "print(fruits[1])   # Output: banana\n"
   ]
  },
  {
   "cell_type": "code",
   "execution_count": 165,
   "id": "693f3ffc-4d72-46fc-a7cd-a263591dc305",
   "metadata": {},
   "outputs": [],
   "source": [
    "# ❌ What You Can’t Do with Tuples:"
   ]
  },
  {
   "cell_type": "code",
   "execution_count": 167,
   "id": "ca42f039-aca4-4fdc-a159-ec03c142e7f0",
   "metadata": {},
   "outputs": [
    {
     "ename": "TypeError",
     "evalue": "'tuple' object does not support item assignment",
     "output_type": "error",
     "traceback": [
      "\u001b[1;31m---------------------------------------------------------------------------\u001b[0m",
      "\u001b[1;31mTypeError\u001b[0m                                 Traceback (most recent call last)",
      "Cell \u001b[1;32mIn[167], line 1\u001b[0m\n\u001b[1;32m----> 1\u001b[0m \u001b[43mfruits\u001b[49m\u001b[43m[\u001b[49m\u001b[38;5;241;43m0\u001b[39;49m\u001b[43m]\u001b[49m \u001b[38;5;241m=\u001b[39m \u001b[38;5;124m\"\u001b[39m\u001b[38;5;124mmango\u001b[39m\u001b[38;5;124m\"\u001b[39m  \u001b[38;5;66;03m# ❌ Error! Tuples can't be changed\u001b[39;00m\n",
      "\u001b[1;31mTypeError\u001b[0m: 'tuple' object does not support item assignment"
     ]
    }
   ],
   "source": [
    "fruits[0] = \"mango\"  # ❌ Error! Tuples can't be changed\n"
   ]
  },
  {
   "cell_type": "code",
   "execution_count": null,
   "id": "a08da647-f330-4d0e-bd81-52a598746152",
   "metadata": {},
   "outputs": [],
   "source": [
    "# 🧪 Tuple with One Element\n",
    "# If you want a tuple with just one item, add a comma:"
   ]
  },
  {
   "cell_type": "code",
   "execution_count": 169,
   "id": "9360497c-3bd0-4f99-83a0-05543626cee2",
   "metadata": {},
   "outputs": [],
   "source": [
    "single = (\"hello\",)  # ✅ tuple\n",
    "not_tuple = (\"hello\")  # ❌ just a string"
   ]
  },
  {
   "cell_type": "code",
   "execution_count": null,
   "id": "b353f905-85da-452c-82fd-11ab1bca1569",
   "metadata": {},
   "outputs": [],
   "source": [
    "# count()    # counts number of times value appears\n",
    "# index()    # returns index of first occurrence"
   ]
  },
  {
   "cell_type": "code",
   "execution_count": 171,
   "id": "a85ae265-75ab-428c-b311-54775273d92c",
   "metadata": {},
   "outputs": [
    {
     "name": "stdout",
     "output_type": "stream",
     "text": [
      "2\n",
      "2\n"
     ]
    }
   ],
   "source": [
    "my_tuple = (1, 2, 3, 2)\n",
    "print(my_tuple.count(2))  # 2\n",
    "print(my_tuple.index(3))  # 2"
   ]
  },
  {
   "cell_type": "code",
   "execution_count": null,
   "id": "9539daa8-4f7a-42bc-950e-6c03ace8f1b5",
   "metadata": {},
   "outputs": [],
   "source": [
    "# 💡 What is a Set in Python?\n",
    "# Set = Unordered collection of unique items\n",
    "\n",
    "# Duplicates not allowed\n",
    "\n",
    "# Mutable (you can add/remove)\n",
    "\n",
    "# Written using curly brackets {}"
   ]
  },
  {
   "cell_type": "code",
   "execution_count": 1,
   "id": "ebf76c9d-a979-49a1-bf42-55d643500d55",
   "metadata": {},
   "outputs": [],
   "source": [
    "my_set = {1, 2, 3, 4}\n"
   ]
  },
  {
   "cell_type": "code",
   "execution_count": null,
   "id": "849b4e0a-6288-498c-ab49-93aac755c54f",
   "metadata": {},
   "outputs": [],
   "source": [
    "# 🎯 Key Features of Sets\n",
    "# Feature\tMeaning\n",
    "# Unordered\tNo indexing, no position-based access\n",
    "# No duplicates\tAutomatically removes duplicates\n",
    "# Mutable\tYou can add or remove elements\n",
    "# No repetition\tOnly one copy of each element is stored"
   ]
  },
  {
   "cell_type": "code",
   "execution_count": 3,
   "id": "1f9f3006-3969-4916-bc08-c6027685e2e2",
   "metadata": {},
   "outputs": [
    {
     "name": "stdout",
     "output_type": "stream",
     "text": [
      "{1, 2, 3}\n"
     ]
    }
   ],
   "source": [
    "my_set = {1, 2, 2, 3}\n",
    "print(my_set)  # Output: {1, 2, 3}\n"
   ]
  },
  {
   "cell_type": "code",
   "execution_count": 5,
   "id": "04ffb87b-bdfe-494d-9c97-9059a4d8cc11",
   "metadata": {},
   "outputs": [],
   "source": [
    "my_set.add(5)        # Adds 5\n",
    "my_set.remove(2)     # Removes 2\n",
    "my_set.discard(100)  # Removes if present, no error if not\n"
   ]
  },
  {
   "cell_type": "code",
   "execution_count": 7,
   "id": "ce884583-4247-4167-9207-7dc928a996ca",
   "metadata": {},
   "outputs": [
    {
     "ename": "TypeError",
     "evalue": "'set' object is not subscriptable",
     "output_type": "error",
     "traceback": [
      "\u001b[1;31m---------------------------------------------------------------------------\u001b[0m",
      "\u001b[1;31mTypeError\u001b[0m                                 Traceback (most recent call last)",
      "Cell \u001b[1;32mIn[7], line 2\u001b[0m\n\u001b[0;32m      1\u001b[0m my_set \u001b[38;5;241m=\u001b[39m {\u001b[38;5;241m10\u001b[39m, \u001b[38;5;241m20\u001b[39m, \u001b[38;5;241m30\u001b[39m}\n\u001b[1;32m----> 2\u001b[0m \u001b[38;5;28mprint\u001b[39m(\u001b[43mmy_set\u001b[49m\u001b[43m[\u001b[49m\u001b[38;5;241;43m0\u001b[39;49m\u001b[43m]\u001b[49m)  \u001b[38;5;66;03m# ❌ Error! Sets don’t support indexing\u001b[39;00m\n",
      "\u001b[1;31mTypeError\u001b[0m: 'set' object is not subscriptable"
     ]
    }
   ],
   "source": [
    "my_set = {10, 20, 30}\n",
    "print(my_set[0])  # ❌ Error! Sets don’t support indexing\n"
   ]
  },
  {
   "cell_type": "code",
   "execution_count": 9,
   "id": "76ce6320-004b-4e18-8020-a34b583003b5",
   "metadata": {},
   "outputs": [
    {
     "name": "stdout",
     "output_type": "stream",
     "text": [
      "{1, 2, 3, 4, 5}\n",
      "{3}\n",
      "{1, 2}\n"
     ]
    }
   ],
   "source": [
    "a = {1, 2, 3}\n",
    "b = {3, 4, 5}\n",
    "\n",
    "print(a.union(b))        # {1, 2, 3, 4, 5}\n",
    "print(a.intersection(b)) # {3}\n",
    "print(a.difference(b))   # {1, 2}\n"
   ]
  },
  {
   "cell_type": "code",
   "execution_count": null,
   "id": "4c2dad11-906e-4297-8363-7ec916b2f6b0",
   "metadata": {},
   "outputs": [],
   "source": [
    "# | Method           | Description                    |\n",
    "# | ---------------- | ------------------------------ |\n",
    "# | `add()`          | Add an item                    |\n",
    "# | `remove()`       | Remove item (error if missing) |\n",
    "# | `discard()`      | Remove (no error if missing)   |\n",
    "# | `clear()`        | Remove all items               |\n",
    "# | `union()`        | Combine sets                   |\n",
    "# | `intersection()` | Common elements                |\n",
    "# | `difference()`   | Items in A not in B            |\n"
   ]
  },
  {
   "cell_type": "code",
   "execution_count": null,
   "id": "e0ffb21c-f1e8-44aa-9e31-888a8c40f030",
   "metadata": {},
   "outputs": [],
   "source": []
  },
  {
   "cell_type": "code",
   "execution_count": null,
   "id": "9f26c2df-5e9a-4487-b623-62b38cabd1a6",
   "metadata": {},
   "outputs": [],
   "source": []
  },
  {
   "cell_type": "code",
   "execution_count": null,
   "id": "5a1e038c-a7b4-48b2-927e-10555a17fbe6",
   "metadata": {},
   "outputs": [],
   "source": []
  },
  {
   "cell_type": "code",
   "execution_count": null,
   "id": "ae6c5e48-2dce-42c3-a7db-098be2dbfe8e",
   "metadata": {},
   "outputs": [],
   "source": []
  },
  {
   "cell_type": "code",
   "execution_count": null,
   "id": "09f808d1-a8d1-419b-9b09-51702da771a6",
   "metadata": {},
   "outputs": [],
   "source": []
  },
  {
   "cell_type": "code",
   "execution_count": null,
   "id": "4074b282-7e86-465a-852a-3a0e7f2c4f00",
   "metadata": {},
   "outputs": [],
   "source": []
  },
  {
   "cell_type": "code",
   "execution_count": null,
   "id": "c4e3ef38-b359-46a2-8b2c-db36850e07bf",
   "metadata": {},
   "outputs": [],
   "source": []
  },
  {
   "cell_type": "code",
   "execution_count": null,
   "id": "943f5cfa-bbf6-4a05-b602-9b6cb607eb02",
   "metadata": {},
   "outputs": [],
   "source": []
  },
  {
   "cell_type": "code",
   "execution_count": null,
   "id": "9fd45fae-b772-4957-bd9a-c48d646d6a64",
   "metadata": {},
   "outputs": [],
   "source": []
  },
  {
   "cell_type": "code",
   "execution_count": null,
   "id": "e3eb19cc-5db4-4c31-ae5c-4ac8764904ad",
   "metadata": {},
   "outputs": [],
   "source": []
  }
 ],
 "metadata": {
  "kernelspec": {
   "display_name": "Python 3 (ipykernel)",
   "language": "python",
   "name": "python3"
  },
  "language_info": {
   "codemirror_mode": {
    "name": "ipython",
    "version": 3
   },
   "file_extension": ".py",
   "mimetype": "text/x-python",
   "name": "python",
   "nbconvert_exporter": "python",
   "pygments_lexer": "ipython3",
   "version": "3.12.4"
  }
 },
 "nbformat": 4,
 "nbformat_minor": 5
}
